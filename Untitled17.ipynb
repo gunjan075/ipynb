{
 "cells": [
  {
   "cell_type": "code",
   "execution_count": 1,
   "metadata": {},
   "outputs": [
    {
     "name": "stdout",
     "output_type": "stream",
     "text": [
      "[[{'contributors': None}, {'coordinates': None}, {'created_at': 'Sun Dec 01 18:45:59 +0000 2019'}, {'display_text_range': ''}, {'entities': {'hashtags': [{'text': 'Google', 'indices': [32, 39]}], 'urls': [{'url': 'https://t.co/9WTDfmMgeU', 'expanded_url': 'https://local.google.com/place?id=7820167681508298070&use=posts&lpsid=6011971487776003298', 'display_url': 'local.google.com/place?id=78201…', 'indices': [40, 63]}], 'user_mentions': [], 'symbols': []}}, {'extended_tweet': ''}, {'favorite_count': ''}, {'favorited': False}, {'filter_level': 'low'}, {'geo': None}, {'id': 1201210851442745344}, {'id_str': '1201210851442745344'}, {'in_reply_to_screen_name': None}, {'in_reply_to_status_id': None}, {'in_reply_to_status_id_str': None}, {'in_reply_to_user_id': None}, {'in_reply_to_user_id_str': None}, {'is_quote_status': False}, {'lang': 'en'}, {'place': None}, {'possibly_sensitive': False}, {'quote_count': 0}, {'quoted_status': ''}, {'quoted_status_id': ''}, {'quoted_status_id_str': ''}, {'quoted_status_permalink': ''}, {'reply_count': 0}, {'retweet_count': 0}, {'retweeted': False}, {'retweeted_status': ''}, {'source': '<a href=\"http://twitter.com\" rel=\"nofollow\">Twitter Web Client</a>'}, {'text': 'Calasanz Martial Arts Center on #Google https://t.co/9WTDfmMgeU'}, {'timestamp_ms': '1575225959059'}, {'truncated': False}, {'user': {'id': 26005010, 'id_str': '26005010', 'name': 'Calasanz FFLD County', 'screen_name': 'Calasanz', 'location': 'Norwalk, CT', 'url': 'http://wefollow.com/Calasanz', 'description': 'The Most Unique Martial Arts & Fitness Fairfield County has to offer! Anyone, any size, any shape, any ability!', 'translator_type': 'none', 'protected': False, 'verified': False, 'followers_count': 1308, 'friends_count': 4044, 'listed_count': 289, 'favourites_count': 112, 'statuses_count': 14334, 'created_at': 'Mon Mar 23 14:00:18 +0000 2009', 'utc_offset': None, 'time_zone': None, 'geo_enabled': True, 'lang': None, 'contributors_enabled': False, 'is_translator': False, 'profile_background_color': 'CC9966', 'profile_background_image_url': 'http://abs.twimg.com/images/themes/theme1/bg.png', 'profile_background_image_url_https': 'https://abs.twimg.com/images/themes/theme1/bg.png', 'profile_background_tile': False, 'profile_link_color': '0084B4', 'profile_sidebar_border_color': 'BDDCAD', 'profile_sidebar_fill_color': 'DDFFCC', 'profile_text_color': '333333', 'profile_use_background_image': True, 'profile_image_url': 'http://pbs.twimg.com/profile_images/458970393017978880/tb3V_XOa_normal.jpeg', 'profile_image_url_https': 'https://pbs.twimg.com/profile_images/458970393017978880/tb3V_XOa_normal.jpeg', 'default_profile': False, 'default_profile_image': False, 'following': None, 'follow_request_sent': None, 'notifications': None}}, {'screen_name': ''}, {'user.location': ''}, {'followers_count': ''}, {'friends_count': ''}, {'statuses_count': ''}, {'listed_count': ''}], [{'contributors': None}, {'coordinates': None}, {'created_at': 'Sun Dec 01 18:46:04 +0000 2019'}, {'display_text_range': ''}, {'entities': {'hashtags': [], 'urls': [{'url': 'https://t.co/nsGdi3ucyi', 'expanded_url': 'https://twitter.com/i/web/status/1201210874817581056', 'display_url': 'twitter.com/i/web/status/1…', 'indices': [117, 140]}], 'user_mentions': [{'screen_name': 'ForzaMotorsport', 'name': 'Forza Motorsport', 'id': 30942099, 'id_str': '30942099', 'indices': [0, 16]}, {'screen_name': 'Tesla', 'name': 'Tesla', 'id': 13298072, 'id_str': '13298072', 'indices': [95, 101]}], 'symbols': []}}, {'extended_tweet': {'full_text': '@ForzaMotorsport Hey, so lots of fun stuff happened last 2 weeks and am wondering.\\n\\nCan we get @Tesla Cybertruck in Forza Horizon 4 .. i mean its a great idea and it would be some much fun :D \\n@elonmusk Consider it :D \\nThanks', 'display_text_range': [0, 225], 'entities': {'hashtags': [], 'urls': [], 'user_mentions': [{'screen_name': 'ForzaMotorsport', 'name': 'Forza Motorsport', 'id': 30942099, 'id_str': '30942099', 'indices': [0, 16]}, {'screen_name': 'Tesla', 'name': 'Tesla', 'id': 13298072, 'id_str': '13298072', 'indices': [95, 101]}, {'screen_name': 'elonmusk', 'name': 'Elon Musk', 'id': 44196397, 'id_str': '44196397', 'indices': [193, 202]}], 'symbols': []}}}, {'favorite_count': ''}, {'favorited': False}, {'filter_level': 'low'}, {'geo': None}, {'id': 1201210874817581056}, {'id_str': '1201210874817581056'}, {'in_reply_to_screen_name': 'ForzaMotorsport'}, {'in_reply_to_status_id': None}, {'in_reply_to_status_id_str': None}, {'in_reply_to_user_id': 30942099}, {'in_reply_to_user_id_str': '30942099'}, {'is_quote_status': False}, {'lang': 'en'}, {'place': None}, {'possibly_sensitive': ''}, {'quote_count': 0}, {'quoted_status': ''}, {'quoted_status_id': ''}, {'quoted_status_id_str': ''}, {'quoted_status_permalink': ''}, {'reply_count': 0}, {'retweet_count': 0}, {'retweeted': False}, {'retweeted_status': ''}, {'source': '<a href=\"https://mobile.twitter.com\" rel=\"nofollow\">Twitter Web App</a>'}, {'text': '@ForzaMotorsport Hey, so lots of fun stuff happened last 2 weeks and am wondering.\\n\\nCan we get @Tesla Cybertruck in… https://t.co/nsGdi3ucyi'}, {'timestamp_ms': '1575225964632'}, {'truncated': True}, {'user': {'id': 845744630406766596, 'id_str': '845744630406766596', 'name': 'Cloudo', 'screen_name': 'oCloudoo', 'location': 'Internet', 'url': None, 'description': 'A lost soul waiting to be found', 'translator_type': 'none', 'protected': False, 'verified': False, 'followers_count': 61, 'friends_count': 766, 'listed_count': 0, 'favourites_count': 1026, 'statuses_count': 937, 'created_at': 'Sat Mar 25 21:10:07 +0000 2017', 'utc_offset': None, 'time_zone': None, 'geo_enabled': False, 'lang': None, 'contributors_enabled': False, 'is_translator': False, 'profile_background_color': '000000', 'profile_background_image_url': 'http://abs.twimg.com/images/themes/theme1/bg.png', 'profile_background_image_url_https': 'https://abs.twimg.com/images/themes/theme1/bg.png', 'profile_background_tile': False, 'profile_link_color': '1B95E0', 'profile_sidebar_border_color': '000000', 'profile_sidebar_fill_color': '000000', 'profile_text_color': '000000', 'profile_use_background_image': False, 'profile_image_url': 'http://pbs.twimg.com/profile_images/1153113903368458241/877ABxqj_normal.jpg', 'profile_image_url_https': 'https://pbs.twimg.com/profile_images/1153113903368458241/877ABxqj_normal.jpg', 'profile_banner_url': 'https://pbs.twimg.com/profile_banners/845744630406766596/1559225286', 'default_profile': False, 'default_profile_image': False, 'following': None, 'follow_request_sent': None, 'notifications': None}}, {'screen_name': ''}, {'user.location': ''}, {'followers_count': ''}, {'friends_count': ''}, {'statuses_count': ''}, {'listed_count': ''}], [{'contributors': None}, {'coordinates': None}, {'created_at': 'Sun Dec 01 18:46:04 +0000 2019'}, {'display_text_range': ''}, {'entities': {'hashtags': [], 'urls': [{'url': 'https://t.co/ntqC2dnHsU', 'expanded_url': 'https://twitter.com/i/web/status/1201210875627094016', 'display_url': 'twitter.com/i/web/status/1…', 'indices': [117, 140]}], 'user_mentions': [], 'symbols': []}}, {'extended_tweet': {'full_text': 'Uhh yeah because the people who are actually the passengers are back there sliding all around and getting motion sick, bracing themselves against hard stops, worried if you are not paying attention, etc. the ride you provide feels a whole lot different in the back seat.', 'display_text_range': [0, 270], 'entities': {'hashtags': [], 'urls': [], 'user_mentions': [], 'symbols': []}}}, {'favorite_count': ''}, {'favorited': False}, {'filter_level': 'low'}, {'geo': None}, {'id': 1201210875627094016}, {'id_str': '1201210875627094016'}, {'in_reply_to_screen_name': None}, {'in_reply_to_status_id': None}, {'in_reply_to_status_id_str': None}, {'in_reply_to_user_id': None}, {'in_reply_to_user_id_str': None}, {'is_quote_status': True}, {'lang': 'en'}, {'place': None}, {'possibly_sensitive': ''}, {'quote_count': 0}, {'quoted_status': {'created_at': 'Fri Nov 29 21:03:02 +0000 2019', 'id': 1200520567927005191, 'id_str': '1200520567927005191', 'text': 'According to @IBM’s C-Suite Study, 54% of C-Suite Executives are looking to bring innovation in from sources outsid… https://t.co/yD2HuwTEwe', 'source': '<a href=\"http://twitter.com/download/iphone\" rel=\"nofollow\">Twitter for iPhone</a>', 'truncated': True, 'in_reply_to_status_id': None, 'in_reply_to_status_id_str': None, 'in_reply_to_user_id': None, 'in_reply_to_user_id_str': None, 'in_reply_to_screen_name': None, 'user': {'id': 947914190, 'id_str': '947914190', 'name': 'Vincenzo Landino', 'screen_name': 'vincenzolandino', 'location': 'Columbus, OH (via Connecticut)', 'url': 'http://aftermarq.com', 'description': 'entrepreneur. CEO, The Landino Group @aftermarq @brainwork_media. @Adobe Insider. winemaker. 🇮🇹 Steelers, Romanista, F1', 'translator_type': 'regular', 'protected': False, 'verified': True, 'followers_count': 28273, 'friends_count': 1002, 'listed_count': 2239, 'favourites_count': 90915, 'statuses_count': 107465, 'created_at': 'Wed Nov 14 15:01:56 +0000 2012', 'utc_offset': None, 'time_zone': None, 'geo_enabled': True, 'lang': None, 'contributors_enabled': False, 'is_translator': False, 'profile_background_color': 'C0DEED', 'profile_background_image_url': 'http://abs.twimg.com/images/themes/theme1/bg.png', 'profile_background_image_url_https': 'https://abs.twimg.com/images/themes/theme1/bg.png', 'profile_background_tile': False, 'profile_link_color': 'CEAEA3', 'profile_sidebar_border_color': 'C0DEED', 'profile_sidebar_fill_color': 'DDEEF6', 'profile_text_color': '333333', 'profile_use_background_image': True, 'profile_image_url': 'http://pbs.twimg.com/profile_images/1128765363410178048/e3r_ziN6_normal.jpg', 'profile_image_url_https': 'https://pbs.twimg.com/profile_images/1128765363410178048/e3r_ziN6_normal.jpg', 'profile_banner_url': 'https://pbs.twimg.com/profile_banners/947914190/1547140649', 'default_profile': False, 'default_profile_image': False, 'following': None, 'follow_request_sent': None, 'notifications': None}, 'geo': None, 'coordinates': None, 'place': None, 'contributors': None, 'is_quote_status': False, 'extended_tweet': {'full_text': 'According to @IBM’s C-Suite Study, 54% of C-Suite Executives are looking to bring innovation in from sources outside of their industry. \\n\\nDon’t silo the creative process. Oftentimes the best drivers of ideas are from the ones that aren’t in the weeds.', 'display_text_range': [0, 251], 'entities': {'hashtags': [], 'urls': [], 'user_mentions': [{'screen_name': 'IBM', 'name': 'IBM', 'id': 18994444, 'id_str': '18994444', 'indices': [13, 17]}], 'symbols': []}}, 'quote_count': 2, 'reply_count': 2, 'retweet_count': 2, 'favorite_count': 10, 'entities': {'hashtags': [], 'urls': [{'url': 'https://t.co/yD2HuwTEwe', 'expanded_url': 'https://twitter.com/i/web/status/1200520567927005191', 'display_url': 'twitter.com/i/web/status/1…', 'indices': [117, 140]}], 'user_mentions': [{'screen_name': 'IBM', 'name': 'IBM', 'id': 18994444, 'id_str': '18994444', 'indices': [13, 17]}], 'symbols': []}, 'favorited': False, 'retweeted': False, 'filter_level': 'low', 'lang': 'en'}}, {'quoted_status_id': 1200520567927005191}, {'quoted_status_id_str': '1200520567927005191'}, {'quoted_status_permalink': {'url': 'https://t.co/yhPkAdB7AG', 'expanded': 'https://twitter.com/vincenzolandino/status/1200520567927005191', 'display': 'twitter.com/vincenzolandin…'}}, {'reply_count': 0}, {'retweet_count': 0}, {'retweeted': False}, {'retweeted_status': ''}, {'source': '<a href=\"http://twitter.com/download/iphone\" rel=\"nofollow\">Twitter for iPhone</a>'}, {'text': 'Uhh yeah because the people who are actually the passengers are back there sliding all around and getting motion si… https://t.co/ntqC2dnHsU'}, {'timestamp_ms': '1575225964825'}, {'truncated': True}, {'user': {'id': 16802731, 'id_str': '16802731', 'name': 'Zane Aveton • #Lifescale #SmashBros Arena Host', 'screen_name': 'zaneology', 'location': 'Dallas, TX', 'url': 'http://youtube.com/zaneologytv', 'description': \"2x #ShortyAward Winner • Media+Live Event Personality • Strategic #Influencer Content #Sports #Auto #Geek #SmashBros • @PepsiCo's Most Connected Person @ #SXSW\", 'translator_type': 'none', 'protected': False, 'verified': False, 'followers_count': 9534, 'friends_count': 2084, 'listed_count': 1197, 'favourites_count': 6314, 'statuses_count': 95925, 'created_at': 'Thu Oct 16 04:55:18 +0000 2008', 'utc_offset': None, 'time_zone': None, 'geo_enabled': True, 'lang': None, 'contributors_enabled': False, 'is_translator': False, 'profile_background_color': '1A1B1F', 'profile_background_image_url': 'http://abs.twimg.com/images/themes/theme9/bg.gif', 'profile_background_image_url_https': 'https://abs.twimg.com/images/themes/theme9/bg.gif', 'profile_background_tile': False, 'profile_link_color': '000000', 'profile_sidebar_border_color': '000000', 'profile_sidebar_fill_color': 'FFFFFF', 'profile_text_color': '000000', 'profile_use_background_image': False, 'profile_image_url': 'http://pbs.twimg.com/profile_images/467395345979150336/8KtiT57M_normal.jpeg', 'profile_image_url_https': 'https://pbs.twimg.com/profile_images/467395345979150336/8KtiT57M_normal.jpeg', 'profile_banner_url': 'https://pbs.twimg.com/profile_banners/16802731/1402476162', 'default_profile': False, 'default_profile_image': False, 'following': None, 'follow_request_sent': None, 'notifications': None}}, {'screen_name': ''}, {'user.location': ''}, {'followers_count': ''}, {'friends_count': ''}, {'statuses_count': ''}, {'listed_count': ''}], [{'contributors': None}, {'coordinates': None}, {'created_at': 'Sun Dec 01 18:46:08 +0000 2019'}, {'display_text_range': ''}, {'entities': {'hashtags': [], 'urls': [], 'user_mentions': [{'screen_name': 'EricMandela', 'name': 'Eric J. Mandela', 'id': 98116740, 'id_str': '98116740', 'indices': [3, 15]}, {'screen_name': 'Tesla', 'name': 'Tesla', 'id': 13298072, 'id_str': '13298072', 'indices': [36, 42]}], 'symbols': []}}, {'extended_tweet': ''}, {'favorite_count': ''}, {'favorited': False}, {'filter_level': 'low'}, {'geo': None}, {'id': 1201210892664344576}, {'id_str': '1201210892664344576'}, {'in_reply_to_screen_name': None}, {'in_reply_to_status_id': None}, {'in_reply_to_status_id_str': None}, {'in_reply_to_user_id': None}, {'in_reply_to_user_id_str': None}, {'is_quote_status': False}, {'lang': 'en'}, {'place': None}, {'possibly_sensitive': ''}, {'quote_count': 0}, {'quoted_status': ''}, {'quoted_status_id': ''}, {'quoted_status_id_str': ''}, {'quoted_status_permalink': ''}, {'reply_count': 0}, {'retweet_count': 0}, {'retweeted': False}, {'retweeted_status': {'created_at': 'Sun Dec 01 13:28:41 +0000 2019', 'id': 1201131001797390337, 'id_str': '1201131001797390337', 'text': 'One of the reasons @Tesla is making the Model Y in Fremont is because it would have been expensive to build a paint… https://t.co/EyqPBcs7CT', 'source': '<a href=\"http://twitter.com/download/iphone\" rel=\"nofollow\">Twitter for iPhone</a>', 'truncated': True, 'in_reply_to_status_id': None, 'in_reply_to_status_id_str': None, 'in_reply_to_user_id': None, 'in_reply_to_user_id_str': None, 'in_reply_to_screen_name': None, 'user': {'id': 98116740, 'id_str': '98116740', 'name': 'Eric J. Mandela', 'screen_name': 'EricMandela', 'location': 'Rahway, NJ, USA', 'url': 'http://www.EricMandela.com/', 'description': 'Passionate about tech, finance, economics, environmentalism, philosophy, politics, freedom, running, skiing, the outdoors and making the world a better place.', 'translator_type': 'none', 'protected': False, 'verified': False, 'followers_count': 657, 'friends_count': 2325, 'listed_count': 5, 'favourites_count': 14038, 'statuses_count': 1779, 'created_at': 'Sun Dec 20 12:32:43 +0000 2009', 'utc_offset': None, 'time_zone': None, 'geo_enabled': False, 'lang': None, 'contributors_enabled': False, 'is_translator': False, 'profile_background_color': 'C0DEED', 'profile_background_image_url': 'http://abs.twimg.com/images/themes/theme1/bg.png', 'profile_background_image_url_https': 'https://abs.twimg.com/images/themes/theme1/bg.png', 'profile_background_tile': False, 'profile_link_color': '1DA1F2', 'profile_sidebar_border_color': 'C0DEED', 'profile_sidebar_fill_color': 'DDEEF6', 'profile_text_color': '333333', 'profile_use_background_image': True, 'profile_image_url': 'http://pbs.twimg.com/profile_images/1104435486708375552/Al2hGKh7_normal.jpg', 'profile_image_url_https': 'https://pbs.twimg.com/profile_images/1104435486708375552/Al2hGKh7_normal.jpg', 'profile_banner_url': 'https://pbs.twimg.com/profile_banners/98116740/1553917063', 'default_profile': True, 'default_profile_image': False, 'following': None, 'follow_request_sent': None, 'notifications': None}, 'geo': None, 'coordinates': None, 'place': None, 'contributors': None, 'is_quote_status': False, 'extended_tweet': {'full_text': 'One of the reasons @Tesla is making the Model Y in Fremont is because it would have been expensive to build a paint shop at Gigafactory 1.  I believe Cybertruck will be produced at GF1.  I also wonder if we will soon see a stainless steel version of the Tesla Semi.\\n$TSLA', 'display_text_range': [0, 271], 'entities': {'hashtags': [], 'urls': [], 'user_mentions': [{'screen_name': 'Tesla', 'name': 'Tesla', 'id': 13298072, 'id_str': '13298072', 'indices': [19, 25]}], 'symbols': [{'text': 'TSLA', 'indices': [266, 271]}]}}, 'quote_count': 0, 'reply_count': 1, 'retweet_count': 4, 'favorite_count': 18, 'entities': {'hashtags': [], 'urls': [{'url': 'https://t.co/EyqPBcs7CT', 'expanded_url': 'https://twitter.com/i/web/status/1201131001797390337', 'display_url': 'twitter.com/i/web/status/1…', 'indices': [117, 140]}], 'user_mentions': [{'screen_name': 'Tesla', 'name': 'Tesla', 'id': 13298072, 'id_str': '13298072', 'indices': [19, 25]}], 'symbols': []}, 'favorited': False, 'retweeted': False, 'filter_level': 'low', 'lang': 'en'}}, {'source': '<a href=\"http://twitter.com/download/iphone\" rel=\"nofollow\">Twitter for iPhone</a>'}, {'text': 'RT @EricMandela: One of the reasons @Tesla is making the Model Y in Fremont is because it would have been expensive to build a paint shop a…'}, {'timestamp_ms': '1575225968887'}, {'truncated': False}, {'user': {'id': 1849282573, 'id_str': '1849282573', 'name': 'Thinker', 'screen_name': 'goldentouch73', 'location': 'New Jersey, USA', 'url': None, 'description': 'Inventor of radical new manufacturing processes & factories around the world for four decades. Tesla, SpaceX, Boring Co., Neuralink Bull.', 'translator_type': 'none', 'protected': False, 'verified': False, 'followers_count': 240, 'friends_count': 270, 'listed_count': 6, 'favourites_count': 21434, 'statuses_count': 11792, 'created_at': 'Mon Sep 09 19:51:40 +0000 2013', 'utc_offset': None, 'time_zone': None, 'geo_enabled': True, 'lang': None, 'contributors_enabled': False, 'is_translator': False, 'profile_background_color': 'C0DEED', 'profile_background_image_url': 'http://abs.twimg.com/images/themes/theme1/bg.png', 'profile_background_image_url_https': 'https://abs.twimg.com/images/themes/theme1/bg.png', 'profile_background_tile': False, 'profile_link_color': '1DA1F2', 'profile_sidebar_border_color': 'C0DEED', 'profile_sidebar_fill_color': 'DDEEF6', 'profile_text_color': '333333', 'profile_use_background_image': True, 'profile_image_url': 'http://pbs.twimg.com/profile_images/1122815081383964672/NKfm5xo8_normal.jpg', 'profile_image_url_https': 'https://pbs.twimg.com/profile_images/1122815081383964672/NKfm5xo8_normal.jpg', 'profile_banner_url': 'https://pbs.twimg.com/profile_banners/1849282573/1552688336', 'default_profile': True, 'default_profile_image': False, 'following': None, 'follow_request_sent': None, 'notifications': None}}, {'screen_name': ''}, {'user.location': ''}, {'followers_count': ''}, {'friends_count': ''}, {'statuses_count': ''}, {'listed_count': ''}]]\n"
     ]
    }
   ],
   "source": [
    "'''\n",
    "converting invalid json to valid json\n",
    "\n",
    "'''\n",
    "import pandas as pd\n",
    "import json\n",
    "\n",
    "# Keys of the dictionary\n",
    "a=[\"contributors\", \"coordinates\", \"created_at\", \"display_text_range\", \"entities\", \"extended_tweet\", \"favorite_count\",\n",
    "      \"favorited\", \"filter_level\", \"geo\", \"id\", \"id_str\",\n",
    "      \"in_reply_to_screen_name\", \"in_reply_to_status_id\",\n",
    "      \"in_reply_to_status_id_str\", \"in_reply_to_user_id\",\n",
    "      \"in_reply_to_user_id_str\", \"is_quote_status\", \"lang\", \"place\",\n",
    "      \"possibly_sensitive\", \"quote_count\", \"quoted_status\",\n",
    "      \"quoted_status_id\", \"quoted_status_id_str\", \"quoted_status_permalink\",\n",
    "      \"reply_count\", \"retweet_count\", \"retweeted\", \"retweeted_status\",\n",
    "      \"source\", \"text\", \"timestamp_ms\", \"truncated\", \"user\", \"screen_name\", \"user.location\", \"followers_count\", \"friends_count\", \"statuses_count\", \"listed_count\"]\n",
    "\n",
    "x=len(a)\n",
    "\n",
    "filepath = 'C:/Users/user/Downloads/data_json.txt'\n",
    "with open(filepath, encoding='utf-8') as fp:\n",
    "    req_json=[]\n",
    "\n",
    "    # iterate all the records line by line\n",
    "    for lines in fp:  \n",
    "        df = pd.DataFrame(eval(lines)).to_dict('records')\n",
    "        temp=[]\n",
    "        for i in range(x):\n",
    "            obj=df[i]\n",
    "            tempObj={}\n",
    "            # Create a dictionary item wich will become a single json object\n",
    "            for key,val in obj.items():\n",
    "                tempObj[a[i]]=val\n",
    "            # append the dictionary item into a list\n",
    "            temp.append(tempObj)\n",
    "        # append the list of dictionary item into a parent list\n",
    "        req_json.append(temp)\n",
    "\n",
    "    # Write the list of dictionary into json, AKA - DUMP THAT SHIT OUT\n",
    "    with open('C:/Users/user/Downloads/valid_data.json', 'w') as file:\n",
    "        json.dump(req_json, file)\n",
    "        print(req_json)\n"
   ]
  },
  {
   "cell_type": "code",
   "execution_count": 21,
   "metadata": {},
   "outputs": [],
   "source": [
    "'''\n",
    "this codebase is for:\n",
    "\n",
    "Database 1 (csv / json -> mongo):\n",
    "Streams from twitter listener\n",
    "\n",
    "'''\n",
    "\n",
    "# read tweet stream csv into a pandas df\n",
    "import pandas as pd\n",
    "#pd.set_option('display.float_format', lambda x: '%.f' % x)\n",
    "tweets_df = pd.read_json(\"C:/Users/user/Downloads/valid_data.json\") # db1\n",
    "tweets_df=tweets_df.dropna(how='any')\n",
    "tweets_dict = tweets_df.to_dict(orient=\"records\")\n",
    "tweets_dict[0].keys()\n",
    "tweets_dict2={str(key):tweets_dict[0][key] for key in tweets_dict[0]}"
   ]
  },
  {
   "cell_type": "code",
   "execution_count": 31,
   "metadata": {},
   "outputs": [
    {
     "data": {
      "text/html": [
       "<div>\n",
       "<style scoped>\n",
       "    .dataframe tbody tr th:only-of-type {\n",
       "        vertical-align: middle;\n",
       "    }\n",
       "\n",
       "    .dataframe tbody tr th {\n",
       "        vertical-align: top;\n",
       "    }\n",
       "\n",
       "    .dataframe thead th {\n",
       "        text-align: right;\n",
       "    }\n",
       "</style>\n",
       "<table border=\"1\" class=\"dataframe\">\n",
       "  <thead>\n",
       "    <tr style=\"text-align: right;\">\n",
       "      <th></th>\n",
       "      <th>0</th>\n",
       "      <th>1</th>\n",
       "      <th>2</th>\n",
       "      <th>3</th>\n",
       "      <th>4</th>\n",
       "      <th>5</th>\n",
       "      <th>6</th>\n",
       "      <th>7</th>\n",
       "      <th>8</th>\n",
       "      <th>9</th>\n",
       "      <th>...</th>\n",
       "      <th>31</th>\n",
       "      <th>32</th>\n",
       "      <th>33</th>\n",
       "      <th>34</th>\n",
       "      <th>35</th>\n",
       "      <th>36</th>\n",
       "      <th>37</th>\n",
       "      <th>38</th>\n",
       "      <th>39</th>\n",
       "      <th>40</th>\n",
       "    </tr>\n",
       "  </thead>\n",
       "  <tbody>\n",
       "    <tr>\n",
       "      <th>0</th>\n",
       "      <td>{'contributors': None}</td>\n",
       "      <td>{'coordinates': None}</td>\n",
       "      <td>{'created_at': 'Sun Dec 01 18:45:59 +0000 2019'}</td>\n",
       "      <td>{'display_text_range': ''}</td>\n",
       "      <td>{'entities': {'hashtags': [{'text': 'Google', ...</td>\n",
       "      <td>{'extended_tweet': ''}</td>\n",
       "      <td>{'favorite_count': ''}</td>\n",
       "      <td>{'favorited': False}</td>\n",
       "      <td>{'filter_level': 'low'}</td>\n",
       "      <td>{'geo': None}</td>\n",
       "      <td>...</td>\n",
       "      <td>{'text': 'Calasanz Martial Arts Center on #Goo...</td>\n",
       "      <td>{'timestamp_ms': '1575225959059'}</td>\n",
       "      <td>{'truncated': False}</td>\n",
       "      <td>{'user': {'id': 26005010, 'id_str': '26005010'...</td>\n",
       "      <td>{'screen_name': ''}</td>\n",
       "      <td>{'user.location': ''}</td>\n",
       "      <td>{'followers_count': ''}</td>\n",
       "      <td>{'friends_count': ''}</td>\n",
       "      <td>{'statuses_count': ''}</td>\n",
       "      <td>{'listed_count': ''}</td>\n",
       "    </tr>\n",
       "    <tr>\n",
       "      <th>1</th>\n",
       "      <td>{'contributors': None}</td>\n",
       "      <td>{'coordinates': None}</td>\n",
       "      <td>{'created_at': 'Sun Dec 01 18:46:04 +0000 2019'}</td>\n",
       "      <td>{'display_text_range': ''}</td>\n",
       "      <td>{'entities': {'hashtags': [], 'urls': [{'url':...</td>\n",
       "      <td>{'extended_tweet': {'full_text': '@ForzaMotors...</td>\n",
       "      <td>{'favorite_count': ''}</td>\n",
       "      <td>{'favorited': False}</td>\n",
       "      <td>{'filter_level': 'low'}</td>\n",
       "      <td>{'geo': None}</td>\n",
       "      <td>...</td>\n",
       "      <td>{'text': '@ForzaMotorsport Hey, so lots of fun...</td>\n",
       "      <td>{'timestamp_ms': '1575225964632'}</td>\n",
       "      <td>{'truncated': True}</td>\n",
       "      <td>{'user': {'id': 845744630406766596, 'id_str': ...</td>\n",
       "      <td>{'screen_name': ''}</td>\n",
       "      <td>{'user.location': ''}</td>\n",
       "      <td>{'followers_count': ''}</td>\n",
       "      <td>{'friends_count': ''}</td>\n",
       "      <td>{'statuses_count': ''}</td>\n",
       "      <td>{'listed_count': ''}</td>\n",
       "    </tr>\n",
       "    <tr>\n",
       "      <th>2</th>\n",
       "      <td>{'contributors': None}</td>\n",
       "      <td>{'coordinates': None}</td>\n",
       "      <td>{'created_at': 'Sun Dec 01 18:46:04 +0000 2019'}</td>\n",
       "      <td>{'display_text_range': ''}</td>\n",
       "      <td>{'entities': {'hashtags': [], 'urls': [{'url':...</td>\n",
       "      <td>{'extended_tweet': {'full_text': 'Uhh yeah bec...</td>\n",
       "      <td>{'favorite_count': ''}</td>\n",
       "      <td>{'favorited': False}</td>\n",
       "      <td>{'filter_level': 'low'}</td>\n",
       "      <td>{'geo': None}</td>\n",
       "      <td>...</td>\n",
       "      <td>{'text': 'Uhh yeah because the people who are ...</td>\n",
       "      <td>{'timestamp_ms': '1575225964825'}</td>\n",
       "      <td>{'truncated': True}</td>\n",
       "      <td>{'user': {'id': 16802731, 'id_str': '16802731'...</td>\n",
       "      <td>{'screen_name': ''}</td>\n",
       "      <td>{'user.location': ''}</td>\n",
       "      <td>{'followers_count': ''}</td>\n",
       "      <td>{'friends_count': ''}</td>\n",
       "      <td>{'statuses_count': ''}</td>\n",
       "      <td>{'listed_count': ''}</td>\n",
       "    </tr>\n",
       "    <tr>\n",
       "      <th>3</th>\n",
       "      <td>{'contributors': None}</td>\n",
       "      <td>{'coordinates': None}</td>\n",
       "      <td>{'created_at': 'Sun Dec 01 18:46:08 +0000 2019'}</td>\n",
       "      <td>{'display_text_range': ''}</td>\n",
       "      <td>{'entities': {'hashtags': [], 'urls': [], 'use...</td>\n",
       "      <td>{'extended_tweet': ''}</td>\n",
       "      <td>{'favorite_count': ''}</td>\n",
       "      <td>{'favorited': False}</td>\n",
       "      <td>{'filter_level': 'low'}</td>\n",
       "      <td>{'geo': None}</td>\n",
       "      <td>...</td>\n",
       "      <td>{'text': 'RT @EricMandela: One of the reasons ...</td>\n",
       "      <td>{'timestamp_ms': '1575225968887'}</td>\n",
       "      <td>{'truncated': False}</td>\n",
       "      <td>{'user': {'id': 1849282573, 'id_str': '1849282...</td>\n",
       "      <td>{'screen_name': ''}</td>\n",
       "      <td>{'user.location': ''}</td>\n",
       "      <td>{'followers_count': ''}</td>\n",
       "      <td>{'friends_count': ''}</td>\n",
       "      <td>{'statuses_count': ''}</td>\n",
       "      <td>{'listed_count': ''}</td>\n",
       "    </tr>\n",
       "  </tbody>\n",
       "</table>\n",
       "<p>4 rows × 41 columns</p>\n",
       "</div>"
      ],
      "text/plain": [
       "                       0                      1   \\\n",
       "0  {'contributors': None}  {'coordinates': None}   \n",
       "1  {'contributors': None}  {'coordinates': None}   \n",
       "2  {'contributors': None}  {'coordinates': None}   \n",
       "3  {'contributors': None}  {'coordinates': None}   \n",
       "\n",
       "                                                 2   \\\n",
       "0  {'created_at': 'Sun Dec 01 18:45:59 +0000 2019'}   \n",
       "1  {'created_at': 'Sun Dec 01 18:46:04 +0000 2019'}   \n",
       "2  {'created_at': 'Sun Dec 01 18:46:04 +0000 2019'}   \n",
       "3  {'created_at': 'Sun Dec 01 18:46:08 +0000 2019'}   \n",
       "\n",
       "                           3   \\\n",
       "0  {'display_text_range': ''}   \n",
       "1  {'display_text_range': ''}   \n",
       "2  {'display_text_range': ''}   \n",
       "3  {'display_text_range': ''}   \n",
       "\n",
       "                                                  4   \\\n",
       "0  {'entities': {'hashtags': [{'text': 'Google', ...   \n",
       "1  {'entities': {'hashtags': [], 'urls': [{'url':...   \n",
       "2  {'entities': {'hashtags': [], 'urls': [{'url':...   \n",
       "3  {'entities': {'hashtags': [], 'urls': [], 'use...   \n",
       "\n",
       "                                                  5                       6   \\\n",
       "0                             {'extended_tweet': ''}  {'favorite_count': ''}   \n",
       "1  {'extended_tweet': {'full_text': '@ForzaMotors...  {'favorite_count': ''}   \n",
       "2  {'extended_tweet': {'full_text': 'Uhh yeah bec...  {'favorite_count': ''}   \n",
       "3                             {'extended_tweet': ''}  {'favorite_count': ''}   \n",
       "\n",
       "                     7                        8              9   \\\n",
       "0  {'favorited': False}  {'filter_level': 'low'}  {'geo': None}   \n",
       "1  {'favorited': False}  {'filter_level': 'low'}  {'geo': None}   \n",
       "2  {'favorited': False}  {'filter_level': 'low'}  {'geo': None}   \n",
       "3  {'favorited': False}  {'filter_level': 'low'}  {'geo': None}   \n",
       "\n",
       "           ...                                                          31  \\\n",
       "0          ...           {'text': 'Calasanz Martial Arts Center on #Goo...   \n",
       "1          ...           {'text': '@ForzaMotorsport Hey, so lots of fun...   \n",
       "2          ...           {'text': 'Uhh yeah because the people who are ...   \n",
       "3          ...           {'text': 'RT @EricMandela: One of the reasons ...   \n",
       "\n",
       "                                  32                    33  \\\n",
       "0  {'timestamp_ms': '1575225959059'}  {'truncated': False}   \n",
       "1  {'timestamp_ms': '1575225964632'}   {'truncated': True}   \n",
       "2  {'timestamp_ms': '1575225964825'}   {'truncated': True}   \n",
       "3  {'timestamp_ms': '1575225968887'}  {'truncated': False}   \n",
       "\n",
       "                                                  34                   35  \\\n",
       "0  {'user': {'id': 26005010, 'id_str': '26005010'...  {'screen_name': ''}   \n",
       "1  {'user': {'id': 845744630406766596, 'id_str': ...  {'screen_name': ''}   \n",
       "2  {'user': {'id': 16802731, 'id_str': '16802731'...  {'screen_name': ''}   \n",
       "3  {'user': {'id': 1849282573, 'id_str': '1849282...  {'screen_name': ''}   \n",
       "\n",
       "                      36                       37                     38  \\\n",
       "0  {'user.location': ''}  {'followers_count': ''}  {'friends_count': ''}   \n",
       "1  {'user.location': ''}  {'followers_count': ''}  {'friends_count': ''}   \n",
       "2  {'user.location': ''}  {'followers_count': ''}  {'friends_count': ''}   \n",
       "3  {'user.location': ''}  {'followers_count': ''}  {'friends_count': ''}   \n",
       "\n",
       "                       39                    40  \n",
       "0  {'statuses_count': ''}  {'listed_count': ''}  \n",
       "1  {'statuses_count': ''}  {'listed_count': ''}  \n",
       "2  {'statuses_count': ''}  {'listed_count': ''}  \n",
       "3  {'statuses_count': ''}  {'listed_count': ''}  \n",
       "\n",
       "[4 rows x 41 columns]"
      ]
     },
     "execution_count": 31,
     "metadata": {},
     "output_type": "execute_result"
    }
   ],
   "source": [
    "tweets_df"
   ]
  },
  {
   "cell_type": "code",
   "execution_count": 32,
   "metadata": {},
   "outputs": [
    {
     "name": "stdout",
     "output_type": "stream",
     "text": [
      "Collecting pymongo\n",
      "  Downloading https://files.pythonhosted.org/packages/5b/df/d0f82279467c72dd0c8cd1908e04a7fb56145a5d222704722e2593af79f1/pymongo-3.10.1-cp37-cp37m-win_amd64.whl (354kB)\n",
      "Installing collected packages: pymongo\n",
      "Successfully installed pymongo-3.10.1\n"
     ]
    },
    {
     "name": "stderr",
     "output_type": "stream",
     "text": [
      "You are using pip version 19.0.3, however version 20.0.2 is available.\n",
      "You should consider upgrading via the 'python -m pip install --upgrade pip' command.\n"
     ]
    }
   ],
   "source": [
    "!pip install pymongo"
   ]
  },
  {
   "cell_type": "code",
   "execution_count": 26,
   "metadata": {},
   "outputs": [
    {
     "data": {
      "text/plain": [
       "{'contributors': None}"
      ]
     },
     "execution_count": 26,
     "metadata": {},
     "output_type": "execute_result"
    }
   ],
   "source": [
    "tweets_dict2.pop(\"0\")"
   ]
  },
  {
   "cell_type": "code",
   "execution_count": 1,
   "metadata": {},
   "outputs": [],
   "source": [
    "# connect to mongo client using pymongo\n",
    "import pymongo # pip install pymongo --user --upgrade\n",
    "from pymongo import MongoClient \n",
    "import ast\n",
    "\n",
    "# Making a Connection with MongoClient\n",
    "client = MongoClient(\"mongodb://localhost:27017/\") # requirement - mongo server successfully installed in windows env\n",
    "\n",
    "# database\n",
    "db = client[\"tweets\"]\n",
    "\n"
   ]
  },
  {
   "cell_type": "code",
   "execution_count": 6,
   "metadata": {},
   "outputs": [],
   "source": [
    "# collections\n",
    "streams= db[\"stream\"]"
   ]
  },
  {
   "cell_type": "code",
   "execution_count": 28,
   "metadata": {},
   "outputs": [
    {
     "ename": "AttributeError",
     "evalue": "'DataFrame' object has no attribute 'user'",
     "output_type": "error",
     "traceback": [
      "\u001b[1;31m---------------------------------------------------------------------------\u001b[0m",
      "\u001b[1;31mAttributeError\u001b[0m                            Traceback (most recent call last)",
      "\u001b[1;32m<ipython-input-28-f573fc02f211>\u001b[0m in \u001b[0;36m<module>\u001b[1;34m()\u001b[0m\n\u001b[0;32m      1\u001b[0m \u001b[1;31m# push a collection to mongo\u001b[0m\u001b[1;33m\u001b[0m\u001b[1;33m\u001b[0m\u001b[0m\n\u001b[0;32m      2\u001b[0m \u001b[1;31m##converting the column into dictionaries...\u001b[0m\u001b[1;33m\u001b[0m\u001b[1;33m\u001b[0m\u001b[0m\n\u001b[1;32m----> 3\u001b[1;33m \u001b[0mtweets_df\u001b[0m\u001b[1;33m[\u001b[0m\u001b[1;34m'user'\u001b[0m\u001b[1;33m]\u001b[0m \u001b[1;33m=\u001b[0m \u001b[0mtweets_df\u001b[0m\u001b[1;33m.\u001b[0m\u001b[0muser\u001b[0m\u001b[1;33m.\u001b[0m\u001b[0mapply\u001b[0m\u001b[1;33m(\u001b[0m\u001b[1;32mlambda\u001b[0m \u001b[0mx\u001b[0m \u001b[1;33m:\u001b[0m \u001b[0mast\u001b[0m\u001b[1;33m.\u001b[0m\u001b[0mliteral_eval\u001b[0m\u001b[1;33m(\u001b[0m\u001b[0mx\u001b[0m\u001b[1;33m)\u001b[0m\u001b[1;33m)\u001b[0m\u001b[1;33m\u001b[0m\u001b[0m\n\u001b[0m\u001b[0;32m      4\u001b[0m \u001b[0mtweets_df\u001b[0m\u001b[1;33m[\u001b[0m\u001b[1;34m'entities'\u001b[0m\u001b[1;33m]\u001b[0m \u001b[1;33m=\u001b[0m \u001b[0mtweets_df\u001b[0m\u001b[1;33m.\u001b[0m\u001b[0mentities\u001b[0m\u001b[1;33m.\u001b[0m\u001b[0mapply\u001b[0m\u001b[1;33m(\u001b[0m\u001b[1;32mlambda\u001b[0m \u001b[0mx\u001b[0m \u001b[1;33m:\u001b[0m \u001b[0mast\u001b[0m\u001b[1;33m.\u001b[0m\u001b[0mliteral_eval\u001b[0m\u001b[1;33m(\u001b[0m\u001b[0mx\u001b[0m\u001b[1;33m)\u001b[0m\u001b[1;33m)\u001b[0m\u001b[1;33m\u001b[0m\u001b[0m\n\u001b[0;32m      5\u001b[0m \u001b[0mtweets_df\u001b[0m\u001b[1;33m[\u001b[0m\u001b[1;34m'extended_tweet'\u001b[0m\u001b[1;33m]\u001b[0m \u001b[1;33m=\u001b[0m \u001b[0mtweets_df\u001b[0m\u001b[1;33m.\u001b[0m\u001b[0mextended_tweet\u001b[0m\u001b[1;33m.\u001b[0m\u001b[0mapply\u001b[0m\u001b[1;33m(\u001b[0m\u001b[1;32mlambda\u001b[0m \u001b[0mx\u001b[0m \u001b[1;33m:\u001b[0m \u001b[1;32mNone\u001b[0m \u001b[1;32mif\u001b[0m \u001b[0mpd\u001b[0m\u001b[1;33m.\u001b[0m\u001b[0misnull\u001b[0m\u001b[1;33m(\u001b[0m\u001b[0mx\u001b[0m\u001b[1;33m)\u001b[0m \u001b[1;32melse\u001b[0m \u001b[0mast\u001b[0m\u001b[1;33m.\u001b[0m\u001b[0mliteral_eval\u001b[0m\u001b[1;33m(\u001b[0m\u001b[0mx\u001b[0m\u001b[1;33m)\u001b[0m\u001b[1;33m)\u001b[0m\u001b[1;33m\u001b[0m\u001b[0m\n",
      "\u001b[1;32m~\\Anaconda\\lib\\site-packages\\pandas\\core\\generic.py\u001b[0m in \u001b[0;36m__getattr__\u001b[1;34m(self, name)\u001b[0m\n\u001b[0;32m   4374\u001b[0m             \u001b[1;32mif\u001b[0m \u001b[0mself\u001b[0m\u001b[1;33m.\u001b[0m\u001b[0m_info_axis\u001b[0m\u001b[1;33m.\u001b[0m\u001b[0m_can_hold_identifiers_and_holds_name\u001b[0m\u001b[1;33m(\u001b[0m\u001b[0mname\u001b[0m\u001b[1;33m)\u001b[0m\u001b[1;33m:\u001b[0m\u001b[1;33m\u001b[0m\u001b[0m\n\u001b[0;32m   4375\u001b[0m                 \u001b[1;32mreturn\u001b[0m \u001b[0mself\u001b[0m\u001b[1;33m[\u001b[0m\u001b[0mname\u001b[0m\u001b[1;33m]\u001b[0m\u001b[1;33m\u001b[0m\u001b[0m\n\u001b[1;32m-> 4376\u001b[1;33m             \u001b[1;32mreturn\u001b[0m \u001b[0mobject\u001b[0m\u001b[1;33m.\u001b[0m\u001b[0m__getattribute__\u001b[0m\u001b[1;33m(\u001b[0m\u001b[0mself\u001b[0m\u001b[1;33m,\u001b[0m \u001b[0mname\u001b[0m\u001b[1;33m)\u001b[0m\u001b[1;33m\u001b[0m\u001b[0m\n\u001b[0m\u001b[0;32m   4377\u001b[0m \u001b[1;33m\u001b[0m\u001b[0m\n\u001b[0;32m   4378\u001b[0m     \u001b[1;32mdef\u001b[0m \u001b[0m__setattr__\u001b[0m\u001b[1;33m(\u001b[0m\u001b[0mself\u001b[0m\u001b[1;33m,\u001b[0m \u001b[0mname\u001b[0m\u001b[1;33m,\u001b[0m \u001b[0mvalue\u001b[0m\u001b[1;33m)\u001b[0m\u001b[1;33m:\u001b[0m\u001b[1;33m\u001b[0m\u001b[0m\n",
      "\u001b[1;31mAttributeError\u001b[0m: 'DataFrame' object has no attribute 'user'"
     ]
    }
   ],
   "source": [
    "# push a collection to mongo\n",
    "##converting the column into dictionaries...\n",
    "tweets_df['user'] = tweets_df.user.apply(lambda x : ast.literal_eval(x))\n",
    "tweets_df['entities'] = tweets_df.entities.apply(lambda x : ast.literal_eval(x))\n",
    "tweets_df['extended_tweet'] = tweets_df.extended_tweet.apply(lambda x : None if pd.isnull(x) else ast.literal_eval(x))\n",
    "tweets_df['quoted_status'] = tweets_df.quoted_status.apply(lambda x : None if pd.isnull(x) else ast.literal_eval(x))\n",
    "tweets_df['quoted_status_permalink'] = tweets_df.quoted_status_permalink.apply(lambda x : None if pd.isnull(x) else ast.literal_eval(x))\n",
    "tweets_df['retweeted_status'] = tweets_df.retweeted_status.apply(lambda x : None if pd.isnull(x) else ast.literal_eval(x))\n",
    "\n",
    "tweets_dict = tweets_df.to_dict(\"records\")\n",
    "#print(tweets_dict)\n"
   ]
  },
  {
   "cell_type": "code",
   "execution_count": 14,
   "metadata": {},
   "outputs": [
    {
     "ename": "ValueError",
     "evalue": "dictionary update sequence element #0 has length 42; 2 is required",
     "output_type": "error",
     "traceback": [
      "\u001b[1;31m---------------------------------------------------------------------------\u001b[0m",
      "\u001b[1;31mValueError\u001b[0m                                Traceback (most recent call last)",
      "\u001b[1;32m<ipython-input-14-d5c5c2b4b89e>\u001b[0m in \u001b[0;36m<module>\u001b[1;34m()\u001b[0m\n\u001b[1;32m----> 1\u001b[1;33m \u001b[0mtweets_dict2\u001b[0m\u001b[1;33m=\u001b[0m\u001b[0mdict\u001b[0m\u001b[1;33m(\u001b[0m\u001b[0mtweets_dict\u001b[0m\u001b[1;33m)\u001b[0m\u001b[1;33m\u001b[0m\u001b[0m\n\u001b[0m",
      "\u001b[1;31mValueError\u001b[0m: dictionary update sequence element #0 has length 42; 2 is required"
     ]
    }
   ],
   "source": []
  },
  {
   "cell_type": "code",
   "execution_count": 27,
   "metadata": {},
   "outputs": [
    {
     "ename": "KeyError",
     "evalue": "0",
     "output_type": "error",
     "traceback": [
      "\u001b[1;31m---------------------------------------------------------------------------\u001b[0m",
      "\u001b[1;31mKeyError\u001b[0m                                  Traceback (most recent call last)",
      "\u001b[1;32m<ipython-input-27-d713a3fd3366>\u001b[0m in \u001b[0;36m<module>\u001b[1;34m()\u001b[0m\n\u001b[1;32m----> 1\u001b[1;33m \u001b[0mstreams\u001b[0m\u001b[1;33m.\u001b[0m\u001b[0minsert_one\u001b[0m\u001b[1;33m(\u001b[0m\u001b[0mtweets_dict2\u001b[0m\u001b[1;33m[\u001b[0m\u001b[1;36m0\u001b[0m\u001b[1;33m]\u001b[0m\u001b[1;33m)\u001b[0m\u001b[1;33m\u001b[0m\u001b[0m\n\u001b[0m",
      "\u001b[1;31mKeyError\u001b[0m: 0"
     ]
    }
   ],
   "source": [
    "streams.insert_one(tweets_dict2[0])"
   ]
  },
  {
   "cell_type": "code",
   "execution_count": null,
   "metadata": {},
   "outputs": [],
   "source": []
  }
 ],
 "metadata": {
  "kernelspec": {
   "display_name": "Python 3",
   "language": "",
   "name": "python3"
  },
  "language_info": {
   "codemirror_mode": {
    "name": "ipython",
    "version": 3
   },
   "file_extension": ".py",
   "mimetype": "text/x-python",
   "name": "python",
   "nbconvert_exporter": "python",
   "pygments_lexer": "ipython3",
   "version": "3.7.0"
  }
 },
 "nbformat": 4,
 "nbformat_minor": 2
}
